{
 "cells": [
  {
   "cell_type": "markdown",
   "id": "e152f6d6",
   "metadata": {
    "ExecuteTime": {
     "end_time": "2022-12-10T14:29:24.703416Z",
     "start_time": "2022-12-10T14:29:24.688485Z"
    },
    "id": "e152f6d6"
   },
   "source": [
    "## Домашнє завдання 6: Статистичні тести"
   ]
  },
  {
   "cell_type": "markdown",
   "id": "cd404683",
   "metadata": {
    "id": "cd404683"
   },
   "source": [
    "0. Зчитайте дані з `data.csv` та запишіть значення колонки data у форматі np.ndarray в змінну data. Ми будемо далі працювати з цією змінною."
   ]
  },
  {
   "cell_type": "code",
   "execution_count": 12,
   "id": "7cce3b0e-b2a1-498c-83a6-084263df7229",
   "metadata": {},
   "outputs": [
    {
     "name": "stdout",
     "output_type": "stream",
     "text": [
      "Collecting statsmodels\n",
      "  Downloading statsmodels-0.14.4-cp310-cp310-win_amd64.whl.metadata (9.5 kB)\n",
      "Requirement already satisfied: numpy<3,>=1.22.3 in c:\\users\\70060\\appdata\\local\\programs\\python\\python310\\lib\\site-packages (from statsmodels) (2.0.0)\n",
      "Collecting scipy!=1.9.2,>=1.8 (from statsmodels)\n",
      "  Downloading scipy-1.14.1-cp310-cp310-win_amd64.whl.metadata (60 kB)\n",
      "     ---------------------------------------- 0.0/60.8 kB ? eta -:--:--\n",
      "     ------------------------- ------------ 41.0/60.8 kB 960.0 kB/s eta 0:00:01\n",
      "     -------------------------------- ----- 51.2/60.8 kB 518.5 kB/s eta 0:00:01\n",
      "     -------------------------------------- 60.8/60.8 kB 537.6 kB/s eta 0:00:00\n",
      "Requirement already satisfied: pandas!=2.1.0,>=1.4 in c:\\users\\70060\\appdata\\local\\programs\\python\\python310\\lib\\site-packages (from statsmodels) (2.2.2)\n",
      "Collecting patsy>=0.5.6 (from statsmodels)\n",
      "  Downloading patsy-0.5.6-py2.py3-none-any.whl.metadata (3.5 kB)\n",
      "Requirement already satisfied: packaging>=21.3 in c:\\users\\70060\\appdata\\local\\programs\\python\\python310\\lib\\site-packages (from statsmodels) (24.1)\n",
      "Requirement already satisfied: python-dateutil>=2.8.2 in c:\\users\\70060\\appdata\\local\\programs\\python\\python310\\lib\\site-packages (from pandas!=2.1.0,>=1.4->statsmodels) (2.9.0.post0)\n",
      "Requirement already satisfied: pytz>=2020.1 in c:\\users\\70060\\appdata\\local\\programs\\python\\python310\\lib\\site-packages (from pandas!=2.1.0,>=1.4->statsmodels) (2024.1)\n",
      "Requirement already satisfied: tzdata>=2022.7 in c:\\users\\70060\\appdata\\local\\programs\\python\\python310\\lib\\site-packages (from pandas!=2.1.0,>=1.4->statsmodels) (2024.1)\n",
      "Requirement already satisfied: six in c:\\users\\70060\\appdata\\local\\programs\\python\\python310\\lib\\site-packages (from patsy>=0.5.6->statsmodels) (1.16.0)\n",
      "Downloading statsmodels-0.14.4-cp310-cp310-win_amd64.whl (9.8 MB)\n",
      "   ---------------------------------------- 0.0/9.8 MB ? eta -:--:--\n",
      "   ---------------------------------------- 0.1/9.8 MB 5.5 MB/s eta 0:00:02\n",
      "    --------------------------------------- 0.1/9.8 MB 1.7 MB/s eta 0:00:06\n",
      "    --------------------------------------- 0.2/9.8 MB 2.3 MB/s eta 0:00:05\n",
      "   - -------------------------------------- 0.4/9.8 MB 2.1 MB/s eta 0:00:05\n",
      "   - -------------------------------------- 0.5/9.8 MB 2.5 MB/s eta 0:00:04\n",
      "   --- ------------------------------------ 0.9/9.8 MB 3.5 MB/s eta 0:00:03\n",
      "   ---- ----------------------------------- 1.0/9.8 MB 3.7 MB/s eta 0:00:03\n",
      "   -------- ------------------------------- 2.0/9.8 MB 5.6 MB/s eta 0:00:02\n",
      "   --------- ------------------------------ 2.3/9.8 MB 5.8 MB/s eta 0:00:02\n",
      "   ------------ --------------------------- 3.0/9.8 MB 6.9 MB/s eta 0:00:01\n",
      "   ---------------- ----------------------- 4.0/9.8 MB 8.3 MB/s eta 0:00:01\n",
      "   --------------------- ------------------ 5.4/9.8 MB 10.1 MB/s eta 0:00:01\n",
      "   -------------------------------- ------- 7.9/9.8 MB 13.6 MB/s eta 0:00:01\n",
      "   ---------------------------------------  9.8/9.8 MB 15.7 MB/s eta 0:00:01\n",
      "   ---------------------------------------- 9.8/9.8 MB 15.4 MB/s eta 0:00:00\n",
      "Downloading patsy-0.5.6-py2.py3-none-any.whl (233 kB)\n",
      "   ---------------------------------------- 0.0/233.9 kB ? eta -:--:--\n",
      "   --------------------------------------- 233.9/233.9 kB 14.0 MB/s eta 0:00:00\n",
      "Downloading scipy-1.14.1-cp310-cp310-win_amd64.whl (44.8 MB)\n",
      "   ---------------------------------------- 0.0/44.8 MB ? eta -:--:--\n",
      "   -- ------------------------------------- 2.4/44.8 MB 76.6 MB/s eta 0:00:01\n",
      "   -- ------------------------------------- 2.4/44.8 MB 76.6 MB/s eta 0:00:01\n",
      "   -- ------------------------------------- 2.4/44.8 MB 76.6 MB/s eta 0:00:01\n",
      "   -- ------------------------------------- 2.4/44.8 MB 13.9 MB/s eta 0:00:04\n",
      "   -- ------------------------------------- 2.4/44.8 MB 13.9 MB/s eta 0:00:04\n",
      "   -- ------------------------------------- 2.4/44.8 MB 8.6 MB/s eta 0:00:05\n",
      "   -- ------------------------------------- 2.4/44.8 MB 8.6 MB/s eta 0:00:05\n",
      "   -- ------------------------------------- 2.4/44.8 MB 8.6 MB/s eta 0:00:05\n",
      "   -- ------------------------------------- 2.4/44.8 MB 8.6 MB/s eta 0:00:05\n",
      "   -- ------------------------------------- 2.4/44.8 MB 5.4 MB/s eta 0:00:08\n",
      "   -- ------------------------------------- 2.4/44.8 MB 5.4 MB/s eta 0:00:08\n",
      "   -- ------------------------------------- 2.5/44.8 MB 4.6 MB/s eta 0:00:10\n",
      "   -- ------------------------------------- 2.5/44.8 MB 4.2 MB/s eta 0:00:11\n",
      "   -- ------------------------------------- 2.5/44.8 MB 4.2 MB/s eta 0:00:11\n",
      "   -- ------------------------------------- 3.3/44.8 MB 4.9 MB/s eta 0:00:09\n",
      "   -- ------------------------------------- 3.3/44.8 MB 4.9 MB/s eta 0:00:09\n",
      "   -- ------------------------------------- 3.3/44.8 MB 4.4 MB/s eta 0:00:10\n",
      "   --- ------------------------------------ 3.6/44.8 MB 4.4 MB/s eta 0:00:10\n",
      "   --- ------------------------------------ 3.6/44.8 MB 4.4 MB/s eta 0:00:10\n",
      "   --- ------------------------------------ 3.6/44.8 MB 4.1 MB/s eta 0:00:11\n",
      "   --- ------------------------------------ 3.8/44.8 MB 3.9 MB/s eta 0:00:11\n",
      "   --- ------------------------------------ 3.8/44.8 MB 3.9 MB/s eta 0:00:11\n",
      "   --- ------------------------------------ 4.1/44.8 MB 3.9 MB/s eta 0:00:11\n",
      "   --- ------------------------------------ 4.3/44.8 MB 3.9 MB/s eta 0:00:11\n",
      "   --- ------------------------------------ 4.3/44.8 MB 3.9 MB/s eta 0:00:11\n",
      "   ---- ----------------------------------- 4.8/44.8 MB 4.0 MB/s eta 0:00:10\n",
      "   ---- ----------------------------------- 4.8/44.8 MB 3.8 MB/s eta 0:00:11\n",
      "   ---- ----------------------------------- 5.5/44.8 MB 4.4 MB/s eta 0:00:09\n",
      "   ----- ---------------------------------- 6.5/44.8 MB 4.8 MB/s eta 0:00:08\n",
      "   ----- ---------------------------------- 6.5/44.8 MB 4.8 MB/s eta 0:00:08\n",
      "   ------ --------------------------------- 7.8/44.8 MB 5.5 MB/s eta 0:00:07\n",
      "   ------- -------------------------------- 8.7/44.8 MB 5.8 MB/s eta 0:00:07\n",
      "   --------- ------------------------------ 10.7/44.8 MB 6.8 MB/s eta 0:00:05\n",
      "   ---------- ----------------------------- 11.2/44.8 MB 6.5 MB/s eta 0:00:06\n",
      "   ---------- ----------------------------- 11.3/44.8 MB 6.4 MB/s eta 0:00:06\n",
      "   ----------- ---------------------------- 13.1/44.8 MB 10.2 MB/s eta 0:00:04\n",
      "   ------------ --------------------------- 14.2/44.8 MB 15.2 MB/s eta 0:00:03\n",
      "   -------------- ------------------------- 16.0/44.8 MB 23.4 MB/s eta 0:00:02\n",
      "   --------------- ------------------------ 17.2/44.8 MB 25.2 MB/s eta 0:00:02\n",
      "   ----------------- ---------------------- 19.1/44.8 MB 27.3 MB/s eta 0:00:01\n",
      "   ------------------ --------------------- 20.6/44.8 MB 25.2 MB/s eta 0:00:01\n",
      "   ------------------- -------------------- 22.3/44.8 MB 34.4 MB/s eta 0:00:01\n",
      "   --------------------- ------------------ 23.8/44.8 MB 32.7 MB/s eta 0:00:01\n",
      "   ---------------------- ----------------- 25.4/44.8 MB 36.4 MB/s eta 0:00:01\n",
      "   ----------------------- ---------------- 26.7/44.8 MB 34.4 MB/s eta 0:00:01\n",
      "   ------------------------- -------------- 28.8/44.8 MB 36.4 MB/s eta 0:00:01\n",
      "   --------------------------- ------------ 30.2/44.8 MB 36.3 MB/s eta 0:00:01\n",
      "   ---------------------------- ----------- 32.3/44.8 MB 36.3 MB/s eta 0:00:01\n",
      "   ------------------------------ --------- 34.1/44.8 MB 38.6 MB/s eta 0:00:01\n",
      "   ------------------------------- -------- 35.7/44.8 MB 38.6 MB/s eta 0:00:01\n",
      "   --------------------------------- ------ 37.6/44.8 MB 38.6 MB/s eta 0:00:01\n",
      "   ----------------------------------- ---- 39.2/44.8 MB 38.5 MB/s eta 0:00:01\n",
      "   ------------------------------------- -- 41.6/44.8 MB 40.9 MB/s eta 0:00:01\n",
      "   -------------------------------------- - 43.1/44.8 MB 38.5 MB/s eta 0:00:01\n",
      "   ---------------------------------------  44.8/44.8 MB 40.9 MB/s eta 0:00:01\n",
      "   ---------------------------------------  44.8/44.8 MB 40.9 MB/s eta 0:00:01\n",
      "   ---------------------------------------- 44.8/44.8 MB 29.7 MB/s eta 0:00:00\n",
      "Installing collected packages: scipy, patsy, statsmodels\n",
      "Successfully installed patsy-0.5.6 scipy-1.14.1 statsmodels-0.14.4\n"
     ]
    },
    {
     "name": "stderr",
     "output_type": "stream",
     "text": [
      "\n",
      "[notice] A new release of pip is available: 24.1.2 -> 24.2\n",
      "[notice] To update, run: python.exe -m pip install --upgrade pip\n"
     ]
    }
   ],
   "source": [
    "!pip install statsmodels"
   ]
  },
  {
   "cell_type": "code",
   "execution_count": 13,
   "id": "a8M1Xqa3hInl",
   "metadata": {
    "id": "a8M1Xqa3hInl"
   },
   "outputs": [],
   "source": [
    "import pandas as pd \n",
    "import numpy as np"
   ]
  },
  {
   "cell_type": "code",
   "execution_count": 14,
   "id": "68fef37c-d889-4ca3-a59c-082988aa4e3a",
   "metadata": {},
   "outputs": [],
   "source": [
    "df = pd.read_csv('../data_gen/data.csv')  \n",
    "data = np.array(df['data'])"
   ]
  },
  {
   "cell_type": "markdown",
   "id": "3d06cbbf",
   "metadata": {
    "id": "3d06cbbf"
   },
   "source": [
    "Запустіть код нижче. Для коректної робити всіх подальших методів дані мають бути у вигляді одновимірного вектора, тобто мати розмір (100,)."
   ]
  },
  {
   "cell_type": "code",
   "execution_count": 15,
   "id": "Rc_cM9TfhJYI",
   "metadata": {
    "id": "Rc_cM9TfhJYI"
   },
   "outputs": [
    {
     "data": {
      "text/plain": [
       "(100,)"
      ]
     },
     "execution_count": 15,
     "metadata": {},
     "output_type": "execute_result"
    }
   ],
   "source": [
    "data.shape"
   ]
  },
  {
   "cell_type": "markdown",
   "id": "abdcef5d",
   "metadata": {
    "id": "abdcef5d"
   },
   "source": [
    "1. Зчитані дані - це сума покупок в доларах наших покупців на сайті протягом липня 2022 року.\n",
    "\n",
    "До цього місяця, ми мали продажі в середньому на чек $20. Чи вийшло у нас статистично значущо **підвищити** середній чек за останній місяць?\n",
    "\n",
    "Оберіть статистичний тест (z-test чи t-test). Виведіть p-значення статистичного тесту та зробіть висновок, чи ми маємо зараз статистично значущу різницю у розмірі середнього чеку.\n",
    "\n",
    "**Підказка**: тут тест буде одновибірковий."
   ]
  },
  {
   "cell_type": "code",
   "execution_count": 16,
   "id": "XhxcSbYqhLz9",
   "metadata": {
    "id": "XhxcSbYqhLz9"
   },
   "outputs": [],
   "source": [
    "from statsmodels.stats.weightstats import ztest"
   ]
  },
  {
   "cell_type": "code",
   "execution_count": 24,
   "id": "fe3a093a-6171-492e-b6dc-0a3338419089",
   "metadata": {},
   "outputs": [],
   "source": [
    "ztest_score, p_value = ztest(data, value =20, alternative = 'larger')"
   ]
  },
  {
   "cell_type": "code",
   "execution_count": 27,
   "id": "3d5b76e8-dc45-46dc-aa42-b391329899e0",
   "metadata": {},
   "outputs": [
    {
     "data": {
      "text/plain": [
       "(np.float64(-0.9953477389335053), np.float64(0.8402164165464012))"
      ]
     },
     "execution_count": 27,
     "metadata": {},
     "output_type": "execute_result"
    }
   ],
   "source": [
    "ztest_score, p_value"
   ]
  },
  {
   "cell_type": "code",
   "execution_count": 28,
   "id": "370396af-b3f0-43c9-ab62-72fabf5e0464",
   "metadata": {},
   "outputs": [
    {
     "name": "stdout",
     "output_type": "stream",
     "text": [
      "Н0 не може бути відхилена.\n"
     ]
    }
   ],
   "source": [
    "alpha = 0.05\n",
    "\n",
    "if(p_value <  alpha):\n",
    "    print(\"Відхилити Н0.\")\n",
    "else:\n",
    "    print(\"Н0 не може бути відхилена.\")"
   ]
  },
  {
   "cell_type": "markdown",
   "id": "eef23f54-cc13-4575-8ae7-4b9fcde65278",
   "metadata": {},
   "source": [
    "P-value > 0.05, тому ми не можему відкинути нульову гіпотезу , а також ztest_score  -0.995 нижче від нульової гіпотези,тому ми не маємо статистично значущу різницю у розмірі середнього чеку."
   ]
  },
  {
   "cell_type": "markdown",
   "id": "05219e41",
   "metadata": {
    "ExecuteTime": {
     "end_time": "2022-12-10T14:52:46.140204Z",
     "start_time": "2022-12-10T14:52:46.112068Z"
    },
    "id": "05219e41"
   },
   "source": [
    "2. Пройшов час, і ми зібрали дані про продажі за серпень 2022 року, які зберігли у файл `data_2.csv`. Продажів було дещо більше, але чи змінився стат. значущо середній чек порівняно з липнем 2022? Перевірте це використовуючи ztest.\n",
    "\n",
    "  Виведіть p-значення статистичного тесту та зробіть висновок, чи ми маємо зараз статистично значущу різницю у розмірі середнього чека між двома місяцями.\n",
    "\n",
    "  **Підказка**: треба провести двовибірковий ztest з Н0 - що середні значення в липні та серпні 2022 року - однакові. Для кращого розуміння ситуації, можливо вам буде цікаво переглянути, які середні показники чеку були в кожен з місяців. Порівняйте свій висновок з простого спостереження середніх значень і висновок статистичного тесту. Чи вони збігаються?"
   ]
  },
  {
   "cell_type": "code",
   "execution_count": 29,
   "id": "hbs7LPI4hP-6",
   "metadata": {
    "id": "hbs7LPI4hP-6"
   },
   "outputs": [],
   "source": [
    "df_2 = pd.read_csv('../data_gen/data_2.csv')  \n",
    "data_2 = np.array(df_2['data'])"
   ]
  },
  {
   "cell_type": "code",
   "execution_count": 30,
   "id": "6714c305-83a2-454b-aed0-61829850ae9e",
   "metadata": {},
   "outputs": [
    {
     "data": {
      "text/plain": [
       "(120,)"
      ]
     },
     "execution_count": 30,
     "metadata": {},
     "output_type": "execute_result"
    }
   ],
   "source": [
    "data_2.shape"
   ]
  },
  {
   "cell_type": "code",
   "execution_count": 32,
   "id": "4fcc9b8b-89c8-44fc-8b04-801435e96847",
   "metadata": {},
   "outputs": [
    {
     "data": {
      "text/plain": [
       "(np.float64(19.37755319670441), np.float64(19.37322276512519))"
      ]
     },
     "execution_count": 32,
     "metadata": {},
     "output_type": "execute_result"
    }
   ],
   "source": [
    "np.mean(data), np.mean(data_2)"
   ]
  },
  {
   "cell_type": "code",
   "execution_count": 34,
   "id": "d26b02bd-5b04-490a-aadc-30acf2107afc",
   "metadata": {},
   "outputs": [
    {
     "data": {
      "text/plain": [
       "(np.float64(0.005246673456808504), np.float64(0.9958137794593356))"
      ]
     },
     "execution_count": 34,
     "metadata": {},
     "output_type": "execute_result"
    }
   ],
   "source": [
    "ztest(data, data_2, alternative='two-sided')"
   ]
  },
  {
   "cell_type": "markdown",
   "id": "54a917c5-b685-4538-b107-1a2d793809ce",
   "metadata": {},
   "source": [
    "P-value (0..995) > 0.05 ,що означає, що ми не можемо відхилити нульову гіпотезу, а також значення Z-score test (0.005) дуже невелике,що вказує на невелику різницю між середніми значеннями липня та серпня.   \n",
    "З простої перевірки середнії значень двух вибірок ми також побавили,що ці значення -  майже однакові - 19.377 та 19.373.  \n",
    "Отже, висновок статистичного тесту та висновок зі спостереження середніх значень двох вибірок - "
   ]
  }
 ],
 "metadata": {
  "colab": {
   "provenance": []
  },
  "hide_input": false,
  "kernelspec": {
   "display_name": "Python 3 (ipykernel)",
   "language": "python",
   "name": "python3"
  },
  "language_info": {
   "codemirror_mode": {
    "name": "ipython",
    "version": 3
   },
   "file_extension": ".py",
   "mimetype": "text/x-python",
   "name": "python",
   "nbconvert_exporter": "python",
   "pygments_lexer": "ipython3",
   "version": "3.10.5"
  },
  "toc": {
   "base_numbering": 1,
   "nav_menu": {},
   "number_sections": true,
   "sideBar": true,
   "skip_h1_title": false,
   "title_cell": "Table of Contents",
   "title_sidebar": "Contents",
   "toc_cell": false,
   "toc_position": {},
   "toc_section_display": true,
   "toc_window_display": false
  },
  "varInspector": {
   "cols": {
    "lenName": 16,
    "lenType": 16,
    "lenVar": 40
   },
   "kernels_config": {
    "python": {
     "delete_cmd_postfix": "",
     "delete_cmd_prefix": "del ",
     "library": "var_list.py",
     "varRefreshCmd": "print(var_dic_list())"
    },
    "r": {
     "delete_cmd_postfix": ") ",
     "delete_cmd_prefix": "rm(",
     "library": "var_list.r",
     "varRefreshCmd": "cat(var_dic_list()) "
    }
   },
   "types_to_exclude": [
    "module",
    "function",
    "builtin_function_or_method",
    "instance",
    "_Feature"
   ],
   "window_display": false
  }
 },
 "nbformat": 4,
 "nbformat_minor": 5
}
