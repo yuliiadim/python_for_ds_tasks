{
 "cells": [
  {
   "cell_type": "markdown",
   "metadata": {
    "id": "ivUvJDdxKaHi"
   },
   "source": [
    "#Завдання на використання Pandas + SQL"
   ]
  },
  {
   "cell_type": "markdown",
   "metadata": {
    "id": "BWdQdn3IKQ_M"
   },
   "source": [
    "В змінній `con` створіть підключення до бази даних employees за аналогією того, як це робили в попередній домашці:"
   ]
  },
  {
   "cell_type": "code",
   "execution_count": 33,
   "metadata": {
    "id": "wj7hmp0-KZlV"
   },
   "outputs": [],
   "source": [
    "import mysql.connector  \n",
    "from mysql.connector.connection import MySQLConnection  \n",
    "import datetime\n",
    "import pandas as pd\n",
    "\n",
    "\n",
    "\n",
    "\n",
    "con = mysql.connector.connect(user = 'user1', password = '7oygWy6P',\n",
    "                              host = '3.68.62.36',\n",
    "                              database = 'employees'\n",
    "                             )\n",
    "                              "
   ]
  },
  {
   "cell_type": "markdown",
   "metadata": {
    "id": "x09jzXh2MitM"
   },
   "source": [
    "1. Виведіть кількість співробітників за роком, в який вони були найняті (hire_date) використовуючи pandas.read_sql. Запишіть результат в змінну df та виведіть значення змінної на екран."
   ]
  },
  {
   "cell_type": "code",
   "execution_count": 34,
   "metadata": {},
   "outputs": [],
   "source": [
    "import warnings  \n",
    "warnings.filterwarnings('ignore')"
   ]
  },
  {
   "cell_type": "code",
   "execution_count": 35,
   "metadata": {
    "id": "NFM8gv4aMiY1"
   },
   "outputs": [
    {
     "data": {
      "text/html": [
       "<div>\n",
       "<style scoped>\n",
       "    .dataframe tbody tr th:only-of-type {\n",
       "        vertical-align: middle;\n",
       "    }\n",
       "\n",
       "    .dataframe tbody tr th {\n",
       "        vertical-align: top;\n",
       "    }\n",
       "\n",
       "    .dataframe thead th {\n",
       "        text-align: right;\n",
       "    }\n",
       "</style>\n",
       "<table border=\"1\" class=\"dataframe\">\n",
       "  <thead>\n",
       "    <tr style=\"text-align: right;\">\n",
       "      <th></th>\n",
       "      <th>hire_year</th>\n",
       "      <th>emp_num</th>\n",
       "    </tr>\n",
       "  </thead>\n",
       "  <tbody>\n",
       "    <tr>\n",
       "      <th>0</th>\n",
       "      <td>1986</td>\n",
       "      <td>36150</td>\n",
       "    </tr>\n",
       "    <tr>\n",
       "      <th>1</th>\n",
       "      <td>1985</td>\n",
       "      <td>35316</td>\n",
       "    </tr>\n",
       "    <tr>\n",
       "      <th>2</th>\n",
       "      <td>1989</td>\n",
       "      <td>28394</td>\n",
       "    </tr>\n",
       "    <tr>\n",
       "      <th>3</th>\n",
       "      <td>1994</td>\n",
       "      <td>14835</td>\n",
       "    </tr>\n",
       "    <tr>\n",
       "      <th>4</th>\n",
       "      <td>1990</td>\n",
       "      <td>25610</td>\n",
       "    </tr>\n",
       "    <tr>\n",
       "      <th>5</th>\n",
       "      <td>1992</td>\n",
       "      <td>20402</td>\n",
       "    </tr>\n",
       "    <tr>\n",
       "      <th>6</th>\n",
       "      <td>1987</td>\n",
       "      <td>33501</td>\n",
       "    </tr>\n",
       "    <tr>\n",
       "      <th>7</th>\n",
       "      <td>1995</td>\n",
       "      <td>12115</td>\n",
       "    </tr>\n",
       "    <tr>\n",
       "      <th>8</th>\n",
       "      <td>1993</td>\n",
       "      <td>17772</td>\n",
       "    </tr>\n",
       "    <tr>\n",
       "      <th>9</th>\n",
       "      <td>1999</td>\n",
       "      <td>1514</td>\n",
       "    </tr>\n",
       "    <tr>\n",
       "      <th>10</th>\n",
       "      <td>1991</td>\n",
       "      <td>22568</td>\n",
       "    </tr>\n",
       "    <tr>\n",
       "      <th>11</th>\n",
       "      <td>1988</td>\n",
       "      <td>31436</td>\n",
       "    </tr>\n",
       "    <tr>\n",
       "      <th>12</th>\n",
       "      <td>1997</td>\n",
       "      <td>6669</td>\n",
       "    </tr>\n",
       "    <tr>\n",
       "      <th>13</th>\n",
       "      <td>1996</td>\n",
       "      <td>9574</td>\n",
       "    </tr>\n",
       "    <tr>\n",
       "      <th>14</th>\n",
       "      <td>1998</td>\n",
       "      <td>4155</td>\n",
       "    </tr>\n",
       "    <tr>\n",
       "      <th>15</th>\n",
       "      <td>2000</td>\n",
       "      <td>13</td>\n",
       "    </tr>\n",
       "  </tbody>\n",
       "</table>\n",
       "</div>"
      ],
      "text/plain": [
       "    hire_year  emp_num\n",
       "0        1986    36150\n",
       "1        1985    35316\n",
       "2        1989    28394\n",
       "3        1994    14835\n",
       "4        1990    25610\n",
       "5        1992    20402\n",
       "6        1987    33501\n",
       "7        1995    12115\n",
       "8        1993    17772\n",
       "9        1999     1514\n",
       "10       1991    22568\n",
       "11       1988    31436\n",
       "12       1997     6669\n",
       "13       1996     9574\n",
       "14       1998     4155\n",
       "15       2000       13"
      ]
     },
     "execution_count": 35,
     "metadata": {},
     "output_type": "execute_result"
    }
   ],
   "source": [
    "df = pd.read_sql(f'SELECT YEAR(hire_date) AS hire_year, COUNT(emp_no) AS emp_num FROM employees GROUP BY hire_year',con)  \n",
    "df  \n"
   ]
  },
  {
   "cell_type": "markdown",
   "metadata": {
    "id": "RNA4i6kCMnlY"
   },
   "source": [
    "Очікуваний результат:\n",
    "\n",
    "![](https://drive.google.com/uc?export=view&id=1JmyPlxFwRRxuCJ33VN-AqMDPSdV_DPXI)"
   ]
  },
  {
   "cell_type": "markdown",
   "metadata": {
    "id": "RKy022bqJqlu"
   },
   "source": [
    "2. Виведіть лінійний графік залежності кількості найманих співробітників від року найму. Ми ж не просто так дані з бази дістали :)\n",
    "Перейменувати назви колонок датафрейму можна або методами pandas, або в sql запиті в попередньому завданні. Також, аби графік вийшов правильний, треба відсортувати роки за зростанням. І це також можна зробити аби в pandas, або в SQL."
   ]
  },
  {
   "cell_type": "code",
   "execution_count": 36,
   "metadata": {
    "id": "IKZLjCZcJr3x"
   },
   "outputs": [],
   "source": [
    "import matplotlib.pyplot as plt"
   ]
  },
  {
   "cell_type": "code",
   "execution_count": 37,
   "metadata": {},
   "outputs": [
    {
     "data": {
      "image/png": "[encoded data removed]",
      "text/plain": [
       "<Figure size 640x480 with 1 Axes>"
      ]
     },
     "metadata": {},
     "output_type": "display_data"
    }
   ],
   "source": [
    "df_sorted = df.sort_values(by = 'hire_year')\n",
    "df_sorted.plot(x ='hire_year', y = 'emp_num');"
   ]
  },
  {
   "cell_type": "markdown",
   "metadata": {
    "id": "N0_8D0xLM2AW"
   },
   "source": [
    "Очікуваний результат:\n",
    "\n",
    "![](https://drive.google.com/uc?export=view&id=1vXUpPNNvIL5dxsypr9sklvtq-H-NDwzU)"
   ]
  },
  {
   "cell_type": "markdown",
   "metadata": {
    "id": "8ert0tBvJsTZ"
   },
   "source": [
    "3. З допомогою SQL для робітників позиції `Engineer`, які вже не працюють в компанії (тобто у них є значення to_date, яке заповнено НЕ значенням за замовчанням) знайдіть кількість повних років перебування на позиції. Позиція зберігається в колонці `title` в таблиці `titles`. Кількість років перебування на позиції можна отримати наприклад з використанням функції `timestampdiff`. Ознайомтесь з її використанням в [документації](https://dev.mysql.com/doc/refman/8.0/en/date-and-time-functions.html#function_timestampdiff).\n",
    "\n",
    "Результат запишіть в змінну `df_years` та виведіть цю змінну на екран."
   ]
  },
  {
   "cell_type": "code",
   "execution_count": 42,
   "metadata": {
    "id": "bBhKfxlgJvi0"
   },
   "outputs": [],
   "source": [
    "sql = \"\"\"\n",
    "SELECT from_date, to_date, TIMESTAMPDIFF(YEAR, from_date, to_date) AS duration\n",
    "FROM titles\n",
    "WHERE title = 'Engineer' AND to_date != '9999-01-01'\n",
    "\"\"\""
   ]
  },
  {
   "cell_type": "code",
   "execution_count": 43,
   "metadata": {},
   "outputs": [
    {
     "data": {
      "text/html": [
       "<div>\n",
       "<style scoped>\n",
       "    .dataframe tbody tr th:only-of-type {\n",
       "        vertical-align: middle;\n",
       "    }\n",
       "\n",
       "    .dataframe tbody tr th {\n",
       "        vertical-align: top;\n",
       "    }\n",
       "\n",
       "    .dataframe thead th {\n",
       "        text-align: right;\n",
       "    }\n",
       "</style>\n",
       "<table border=\"1\" class=\"dataframe\">\n",
       "  <thead>\n",
       "    <tr style=\"text-align: right;\">\n",
       "      <th></th>\n",
       "      <th>from_date</th>\n",
       "      <th>to_date</th>\n",
       "      <th>duration</th>\n",
       "    </tr>\n",
       "  </thead>\n",
       "  <tbody>\n",
       "    <tr>\n",
       "      <th>0</th>\n",
       "      <td>1986-12-01</td>\n",
       "      <td>1995-12-01</td>\n",
       "      <td>9</td>\n",
       "    </tr>\n",
       "    <tr>\n",
       "      <th>1</th>\n",
       "      <td>1990-02-18</td>\n",
       "      <td>1995-02-18</td>\n",
       "      <td>5</td>\n",
       "    </tr>\n",
       "    <tr>\n",
       "      <th>2</th>\n",
       "      <td>1992-12-18</td>\n",
       "      <td>2000-12-18</td>\n",
       "      <td>8</td>\n",
       "    </tr>\n",
       "    <tr>\n",
       "      <th>3</th>\n",
       "      <td>1987-04-03</td>\n",
       "      <td>1995-04-03</td>\n",
       "      <td>8</td>\n",
       "    </tr>\n",
       "    <tr>\n",
       "      <th>4</th>\n",
       "      <td>1995-03-20</td>\n",
       "      <td>2001-03-19</td>\n",
       "      <td>5</td>\n",
       "    </tr>\n",
       "    <tr>\n",
       "      <th>...</th>\n",
       "      <td>...</td>\n",
       "      <td>...</td>\n",
       "      <td>...</td>\n",
       "    </tr>\n",
       "    <tr>\n",
       "      <th>84015</th>\n",
       "      <td>1989-11-23</td>\n",
       "      <td>1998-11-23</td>\n",
       "      <td>9</td>\n",
       "    </tr>\n",
       "    <tr>\n",
       "      <th>84016</th>\n",
       "      <td>1989-07-30</td>\n",
       "      <td>1994-07-30</td>\n",
       "      <td>5</td>\n",
       "    </tr>\n",
       "    <tr>\n",
       "      <th>84017</th>\n",
       "      <td>1993-02-22</td>\n",
       "      <td>1993-10-27</td>\n",
       "      <td>0</td>\n",
       "    </tr>\n",
       "    <tr>\n",
       "      <th>84018</th>\n",
       "      <td>1996-05-13</td>\n",
       "      <td>2002-05-13</td>\n",
       "      <td>6</td>\n",
       "    </tr>\n",
       "    <tr>\n",
       "      <th>84019</th>\n",
       "      <td>1987-08-30</td>\n",
       "      <td>1992-08-29</td>\n",
       "      <td>4</td>\n",
       "    </tr>\n",
       "  </tbody>\n",
       "</table>\n",
       "<p>84020 rows × 3 columns</p>\n",
       "</div>"
      ],
      "text/plain": [
       "        from_date     to_date  duration\n",
       "0      1986-12-01  1995-12-01         9\n",
       "1      1990-02-18  1995-02-18         5\n",
       "2      1992-12-18  2000-12-18         8\n",
       "3      1987-04-03  1995-04-03         8\n",
       "4      1995-03-20  2001-03-19         5\n",
       "...           ...         ...       ...\n",
       "84015  1989-11-23  1998-11-23         9\n",
       "84016  1989-07-30  1994-07-30         5\n",
       "84017  1993-02-22  1993-10-27         0\n",
       "84018  1996-05-13  2002-05-13         6\n",
       "84019  1987-08-30  1992-08-29         4\n",
       "\n",
       "[84020 rows x 3 columns]"
      ]
     },
     "execution_count": 43,
     "metadata": {},
     "output_type": "execute_result"
    }
   ],
   "source": [
    "df_years = pd.read_sql(sql,con)  \n",
    "df_years"
   ]
  },
  {
   "cell_type": "markdown",
   "metadata": {
    "id": "6v5ejqB_NBhY"
   },
   "source": [
    "Очікуваний результат:\n",
    "\n",
    "![](https://drive.google.com/uc?export=view&id=1nBqeBVYFuSQlMx9lNaDJJ_8hMx7yV9bX)"
   ]
  },
  {
   "cell_type": "markdown",
   "metadata": {
    "id": "n3p0vRyxJy6F"
   },
   "source": [
    "4. Використовуючи дані в  `df_years`, побудуйте гістограму кількості років, протягом яких люди з назвою позиції `Engineer` перебували на позиції. Не забудьте дати назву діаграмі, а також підписати вісі."
   ]
  },
  {
   "cell_type": "code",
   "execution_count": null,
   "metadata": {
    "id": "i99i8zVHJwUc"
   },
   "outputs": [],
   "source": [
    "df_years.hist()  \n",
    "plt.title('Duration on Engineer position')  \n",
    "plt.xlabel('Number of years')  \n",
    "plt.ylabel('Number"
   ]
  },
  {
   "cell_type": "markdown",
   "metadata": {
    "id": "g_8980MgNL8E"
   },
   "source": [
    "Очікуваний результат:\n",
    "\n",
    "![](https://drive.google.com/uc?export=view&id=1RKbfs5R9oniNs9XJcUpdlXFT-0BKXvPB)"
   ]
  },
  {
   "cell_type": "markdown",
   "metadata": {
    "id": "f-GGILeOJ2zz"
   },
   "source": [
    "НЕ ЗАБУВАЄМО ЗАКРИТИ ПІДКЛЮЧЕННЯ ДО БАЗИ :)"
   ]
  },
  {
   "cell_type": "code",
   "execution_count": null,
   "metadata": {
    "id": "ovabwjK_J5ac"
   },
   "outputs": [],
   "source": [
    "con.close()"
   ]
  }
 ],
 "metadata": {
  "colab": {
   "provenance": []
  },
  "kernelspec": {
   "display_name": "Python 3 (ipykernel)",
   "language": "python",
   "name": "python3"
  },
  "language_info": {
   "codemirror_mode": {
    "name": "ipython",
    "version": 3
   },
   "file_extension": ".py",
   "mimetype": "text/x-python",
   "name": "python",
   "nbconvert_exporter": "python",
   "pygments_lexer": "ipython3",
   "version": "3.10.5"
  }
 },
 "nbformat": 4,
 "nbformat_minor": 4
}
