{
 "cells": [
  {
   "cell_type": "markdown",
   "id": "981d9265",
   "metadata": {
    "id": "981d9265"
   },
   "source": [
    "# Домашнє завдання до теми \"Functions\"\n",
    "В цьому домашньому завданні в деяких задачах є частини коду, та в кожному завданні описано, що з ними треба зробити, часто - просто виконати після того, як ви напишете частину, якої поки не вистачає. Пишіть, будь ласка, код, який реалізує рішення кожного завдання, безпосереньо під формулюванням завдання, створюючи нові клітинки. Можете створювати скільки завгодно клітинок для виконання одного завдання."
   ]
  },
  {
   "cell_type": "markdown",
   "id": "eb55a967",
   "metadata": {
    "id": "eb55a967"
   },
   "source": [
    "1. Напишіть функцію `is_even`, яка для заданого числа визначає, чи воно є парним (тобто ділиться на 2 без остачі, наприклад 4, 10, 102). Функція має вертати результат типу bool.\n",
    "Продемонструйте результати робити функції запустивши код нижче."
   ]
  },
  {
   "cell_type": "code",
   "execution_count": 1,
   "id": "66e68f7a",
   "metadata": {
    "ExecuteTime": {
     "end_time": "2023-06-13T09:48:47.072569Z",
     "start_time": "2023-06-13T09:48:47.068977Z"
    },
    "id": "66e68f7a"
   },
   "outputs": [],
   "source": [
    "def is_even(x):\n",
    "    return x %2 == 0"
   ]
  },
  {
   "cell_type": "code",
   "execution_count": 2,
   "id": "c60e04d1",
   "metadata": {
    "ExecuteTime": {
     "end_time": "2023-06-13T09:51:03.574283Z",
     "start_time": "2023-06-13T09:51:03.568715Z"
    },
    "id": "c60e04d1"
   },
   "outputs": [
    {
     "data": {
      "text/plain": [
       "[False, True, False, False, True]"
      ]
     },
     "execution_count": 2,
     "metadata": {},
     "output_type": "execute_result"
    }
   ],
   "source": [
    "[is_even(digit) for digit in [101, 2002, 3043, 5015, 8222]]"
   ]
  },
  {
   "cell_type": "markdown",
   "id": "xPlxqkpyFkti",
   "metadata": {
    "id": "xPlxqkpyFkti"
   },
   "source": [
    "2. Створіть функцію `sum_numbers`, яка приймає довільну кількість числових аргументів і повертає їх суму. Функція повинна працювати з будь-якою кількістю числових аргументів, включаючи випадки, коли аргументів немає.\n",
    "\n",
    "  **Приклади виклику функції:**\n",
    "\n",
    "  1. `sum_numbers(1, 2, 3, 4)` повинно повернути `10`.\n",
    "  2. `sum_numbers(10, 20)` повинно повернути `30`.\n",
    "  3. `sum_numbers()` повинно повернути `0`.\n",
    "\n",
    "  **Вимоги до реалізації:**\n",
    "\n",
    "  - Функція має використовувати `*args` для прийому довільної кількості аргументів.\n",
    "  - Функція має правильно обробляти випадок, коли їй не передано жодного аргумента.\n",
    "\n",
    "  Продемонструйте результати робити функції запустивши її на наведених наборах нижче."
   ]
  },
  {
   "cell_type": "code",
   "execution_count": 19,
   "id": "WjjXB8MqK5Kt",
   "metadata": {
    "id": "WjjXB8MqK5Kt"
   },
   "outputs": [],
   "source": [
    "def sum_numbers(*args):\n",
    "    return sum(args)"
   ]
  },
  {
   "cell_type": "code",
   "execution_count": 20,
   "id": "TyQnD-d1GNOM",
   "metadata": {
    "id": "TyQnD-d1GNOM"
   },
   "outputs": [],
   "source": [
    "number_sets = [\n",
    "    (1, 2, 3, 4),\n",
    "    (10, 20),\n",
    "    (11, 12, 13),\n",
    "    (),\n",
    "    (-19, -164, 183)\n",
    "]"
   ]
  },
  {
   "cell_type": "code",
   "execution_count": 23,
   "id": "S_z07TQVLCQT",
   "metadata": {
    "id": "S_z07TQVLCQT"
   },
   "outputs": [
    {
     "data": {
      "text/plain": [
       "[10, 30, 36, 0, 0]"
      ]
     },
     "execution_count": 23,
     "metadata": {},
     "output_type": "execute_result"
    }
   ],
   "source": [
    "[sum_numbers(*group) for group in number_sets]"
   ]
  },
  {
   "cell_type": "markdown",
   "id": "d1769a5b",
   "metadata": {
    "id": "d1769a5b"
   },
   "source": [
    "3. **Завдання на рефакторинг: Обчислення Індексу Маси Тіла (BMI).** Рефакторинг - стандартна практика при роботі зі своїм, чи чужим кодом в компанії. Тут ми дізнаємось, що це і попрактикуємось це робити.\n",
    "\n",
    "  У вашому розпорядженні є фрагмент коду, який обчислює [індекс маси тіла (BMI)](https://uk.wikipedia.org/wiki/%D0%86%D0%BD%D0%B4%D0%B5%D0%BA%D1%81_%D0%BC%D0%B0%D1%81%D0%B8_%D1%82%D1%96%D0%BB%D0%B0#:~:text=%D0%86%CC%81%D0%BD%D0%B4%D0%B5%D0%BA%D1%81%20%D0%BC%D0%B0%CC%81%D1%81%D0%B8%20%D1%82%D1%96%CC%81%D0%BB%D0%B0%20(%D0%86%D0%9C%D0%A2%2C%20%D0%B0%D0%BD%D0%B3%D0%BB,%D0%BD%D0%BE%D1%80%D0%BC%D0%B0%D0%BB%D1%8C%D0%BD%D0%BE%D1%8E%2C%20%D0%BD%D0%B0%D0%B4%D0%BC%D1%96%D1%80%D0%BD%D0%BE%D1%8E%20(%D0%BE%D0%B6%D0%B8%D1%80%D1%96%D0%BD%D0%BD%D1%8F%D0%BC) для п'яти осіб. Ваше завдання - рефакторити цей код, тобто оптимізувати його вигляд, виокремивши повторювані частини в окрему функцію. Мета рефакторингу - **зберегти функціонал існуючого коду**, але зробити його більш читабельним, зручним для розуміння та модифікації.   пʼяти осіб. Для обчислення індексу маси тіла треба розділити вагу на зріст, піднесений до квадрату.\n",
    "\n",
    "  Виділіть у функцію код, що дублюється (робить одні і ті ж самі операції, але з різними числами) так, аби результат збергісі **той самий**, але коду стало менше.\n",
    "\n",
    "  В кінці - запустіть свій відрефакторений фрагмент коду. Якщо Ваш код виводить не те ж саме, що наведений фрагмент до рефакторингу, завдання вважається не виконаним.\n",
    "\n",
    "  **Увага**: Це завдання - творче. Можна обгорнути даний код у функцію по-різному. Єдиної правильної відповіді нема. Буде перевірятись розуміння підходу \"винесення частин, що повторюються, у функцію\"."
   ]
  },
  {
   "cell_type": "code",
   "execution_count": 24,
   "id": "e0750a47",
   "metadata": {
    "ExecuteTime": {
     "end_time": "2023-02-26T21:36:29.139957Z",
     "start_time": "2023-02-26T21:36:29.117743Z"
    },
    "id": "e0750a47"
   },
   "outputs": [
    {
     "name": "stdout",
     "output_type": "stream",
     "text": [
      "bmi person1 = 30\n",
      "bmi person2 = 29\n",
      "bmi person3 = 29\n",
      "bmi person4 = 24\n",
      "bmi person5 = 28\n"
     ]
    }
   ],
   "source": [
    "person1 = [80, 1.62]\n",
    "person2 = [69, 1.53]\n",
    "person3 = [80, 1.66]\n",
    "person4 = [80, 1.79]\n",
    "person5 = [72, 1.60]\n",
    "\n",
    "bmi_person1 = int(person1[0] / person1[1]**2)\n",
    "print(\"bmi {} = {}\".format('person1', bmi_person1))\n",
    "\n",
    "bmi_person2 = int(person2[0] / person2[1]**2)\n",
    "print(\"bmi {} = {}\".format('person2', bmi_person2))\n",
    "\n",
    "bmi_person3 = int(person3[0] / person3[1]**2)\n",
    "print(\"bmi {} = {}\".format('person3', bmi_person3))\n",
    "\n",
    "bmi_person4 = int(person4[0] / person4[1]**2)\n",
    "print(\"bmi {} = {}\".format('person4', bmi_person4))\n",
    "\n",
    "bmi_person5 = int(person5[0] / person5[1]**2)\n",
    "print(\"bmi {} = {}\".format('person5', bmi_person5))"
   ]
  },
  {
   "cell_type": "code",
   "execution_count": 57,
   "id": "MR3hny6hLFmu",
   "metadata": {
    "id": "MR3hny6hLFmu"
   },
   "outputs": [
    {
     "name": "stdout",
     "output_type": "stream",
     "text": [
      "bmi person1 = 30\n",
      "bmi person2 = 29\n",
      "bmi person3 = 29\n",
      "bmi person4 = 24\n",
      "bmi person5 = 28\n"
     ]
    }
   ],
   "source": [
    "#виділяю у функцію обчислення BMI\n",
    "def bmi(x):\n",
    "    return int(x[0] // x[1]**2)\n",
    "    \n",
    "print('bmi {} = {}'.format('person1', bmi(person1)))\n",
    "print('bmi {} = {}'.format('person2', bmi(person2)))    \n",
    "print('bmi {} = {}'.format('person3', bmi(person3)))\n",
    "print('bmi {} = {}'.format('person4', bmi(person4)))\n",
    "print('bmi {} = {}'.format('person5', bmi(person5)))       \n",
    "\n"
   ]
  },
  {
   "cell_type": "code",
   "execution_count": 60,
   "id": "d2d769f1-4e4c-49c6-9679-92dfb96fabab",
   "metadata": {},
   "outputs": [
    {
     "name": "stdout",
     "output_type": "stream",
     "text": [
      "bmi person1 = 30\n",
      "bmi person2 = 29\n",
      "bmi person3 = 29\n",
      "bmi person4 = 24\n",
      "bmi person5 = 28\n"
     ]
    }
   ],
   "source": [
    "#рефакторинг за допомогою функції та циклу for\n",
    "def bmi(x, y):\n",
    "    return int(x // y**2)\n",
    "\n",
    "\n",
    "people = [\n",
    "    ['person1', 80, 1.62],\n",
    "    ['person2', 69, 1.53], \n",
    "    ['person3', 80, 1.66],\n",
    "    ['person4', 80, 1.79],\n",
    "    ['person5', 72, 1.60] \n",
    "]  \n",
    "\n",
    "for person in people:\n",
    "    name, x, y = person\n",
    "    body_mi = bmi(x, y)\n",
    "    print(f'bmi {name} = {body_mi}')"
   ]
  }
 ],
 "metadata": {
  "colab": {
   "provenance": []
  },
  "kernelspec": {
   "display_name": "Python 3 (ipykernel)",
   "language": "python",
   "name": "python3"
  },
  "language_info": {
   "codemirror_mode": {
    "name": "ipython",
    "version": 3
   },
   "file_extension": ".py",
   "mimetype": "text/x-python",
   "name": "python",
   "nbconvert_exporter": "python",
   "pygments_lexer": "ipython3",
   "version": "3.10.5"
  },
  "toc": {
   "base_numbering": 1,
   "nav_menu": {},
   "number_sections": true,
   "sideBar": true,
   "skip_h1_title": false,
   "title_cell": "Table of Contents",
   "title_sidebar": "Contents",
   "toc_cell": false,
   "toc_position": {},
   "toc_section_display": true,
   "toc_window_display": false
  }
 },
 "nbformat": 4,
 "nbformat_minor": 5
}
