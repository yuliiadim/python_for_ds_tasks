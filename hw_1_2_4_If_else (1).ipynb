{
 "cells": [
  {
   "cell_type": "markdown",
   "metadata": {
    "id": "ZrhGiOYxAAbb"
   },
   "source": [
    "#Домашнє завдання до теми \"Конструкція if...else\""
   ]
  },
  {
   "cell_type": "markdown",
   "metadata": {
    "id": "mpXlwoNP-cWT"
   },
   "source": [
    "1. **Перевірка температури:**\n",
    "   - Завдання:\n",
    "     - Дано заздалегідь визначену змінну температури `temperature`. Перевірте її значення.\n",
    "     - Якщо температура вище 25 градусів Цельсія, виведіть \"Це теплий день.\"\n",
    "     - Якщо температура знаходиться в межах від 15 до 25 градусів Цельсія (включно), виведіть \"Це приємний день.\"\n",
    "     - В іншому випадку виведіть \"Це холодний день.\""
   ]
  },
  {
   "cell_type": "code",
   "execution_count": 15,
   "metadata": {
    "id": "fho34W3U-ssw"
   },
   "outputs": [],
   "source": [
    "temperature = 20"
   ]
  },
  {
   "cell_type": "code",
   "execution_count": 29,
   "metadata": {
    "id": "CC3TlffAAPxK"
   },
   "outputs": [
    {
     "name": "stdout",
     "output_type": "stream",
     "text": [
      "Це приємний день\n"
     ]
    }
   ],
   "source": [
    "if temperature > 25:\n",
    "    print('Це теплий день')\n",
    "elif temperature >= 15 and temperature <= 25:\n",
    "    print('Це приємний день')\n",
    "else:\n",
    "    print('Це холодний день')"
   ]
  },
  {
   "cell_type": "markdown",
   "metadata": {
    "id": "ANFbi11m-4v_"
   },
   "source": [
    "2. **Калькулятор оцінок:**\n",
    "   - Завдання:\n",
    "     - Дано заздалегідь визначену змінну `score` із результатом іспиту (зі 100 балів). Ваша задача визначити відповідну літеру цієї оцінки за правилами нижче.\n",
    "     - Якщо оцінка 90 або вище, виведіть \"A\".\n",
    "     - Якщо оцінка знаходиться в межах від 80 до 89, виведіть \"B\".\n",
    "     - Якщо оцінка знаходиться в межах від 70 до 79, виведіть \"C\".\n",
    "     - Якщо оцінка знаходиться в межах від 60 до 69, виведіть \"D\".\n",
    "     - В іншому випадку виведіть \"F\".\n",
    "     \n"
   ]
  },
  {
   "cell_type": "code",
   "execution_count": 30,
   "metadata": {
    "id": "2w0dAfBw_ew2"
   },
   "outputs": [],
   "source": [
    "score = 75"
   ]
  },
  {
   "cell_type": "code",
   "execution_count": 31,
   "metadata": {
    "id": "ZdJsRZ0WAQVD"
   },
   "outputs": [
    {
     "name": "stdout",
     "output_type": "stream",
     "text": [
      "C\n"
     ]
    }
   ],
   "source": [
    "if score >= 90:\n",
    "    print('A')\n",
    "elif score >= 80 and score <= 89:\n",
    "    print('B')\n",
    "elif score >= 70 and score <= 79:\n",
    "    print('C')\n",
    "elif score >= 60 and score <= 69:\n",
    "    print('D')\n",
    "else:\n",
    "    print('F')"
   ]
  },
  {
   "cell_type": "markdown",
   "metadata": {
    "id": "ohXlepp7_dns"
   },
   "source": [
    "\n",
    "\n",
    "3. **Перевірка на високосний рік:**\n",
    "   - Завдання:\n",
    "     - Дано заздалегідь визначену змінну року `year`. Перевірте, чи є рік високосним роком. Правила для перевірки наведені нижче.\n",
    "     - Якщо рік ділиться на 4 і не ділиться на 100, або він ділиться на 400, виведіть \"Високосний рік\".\n",
    "     - В іншому випадку виведіть \"Не високосний рік\".\n"
   ]
  },
  {
   "cell_type": "code",
   "execution_count": 39,
   "metadata": {
    "id": "i4OUe6Kh_sAk"
   },
   "outputs": [],
   "source": [
    "year = 2024  # Приклад року"
   ]
  },
  {
   "cell_type": "code",
   "execution_count": 40,
   "metadata": {
    "id": "yTWX7B4JARhH"
   },
   "outputs": [
    {
     "name": "stdout",
     "output_type": "stream",
     "text": [
      "Високосний рік\n"
     ]
    }
   ],
   "source": [
    "if year % 4 == 0 and year % 100 != 0:\n",
    "    print('Високосний рік')\n",
    "elif year % 400 == 0:\n",
    "    print ('Високосний рік')\n",
    "else:\n",
    "    print ('Не високосний рік')"
   ]
  }
 ],
 "metadata": {
  "colab": {
   "provenance": []
  },
  "kernelspec": {
   "display_name": "Python 3 (ipykernel)",
   "language": "python",
   "name": "python3"
  },
  "language_info": {
   "codemirror_mode": {
    "name": "ipython",
    "version": 3
   },
   "file_extension": ".py",
   "mimetype": "text/x-python",
   "name": "python",
   "nbconvert_exporter": "python",
   "pygments_lexer": "ipython3",
   "version": "3.10.5"
  }
 },
 "nbformat": 4,
 "nbformat_minor": 4
}
